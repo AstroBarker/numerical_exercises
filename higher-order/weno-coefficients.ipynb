{
 "cells": [
  {
   "cell_type": "markdown",
   "metadata": {},
   "source": [
    "# WENO coefficients"
   ]
  },
  {
   "cell_type": "markdown",
   "metadata": {},
   "source": [
    "The starting point for a WENO code is a standard Lagrange interpolating polynomial.\n",
    "\n",
    "Assume we're trying to reconstruct the function $q(x)$, and that we're given the cell-centred information $q_i = \\langle q \\rangle_i$ and the cells $I_i$ centred at $x_i$, where all the cells have width $\\Delta x$. Then we want to use the stencil $I_{i-r+k+1}, \\dots I_{i+k}$ which uses $r$ cells to construct the Lagrange interpolation polynomial of order $r$. This polynomial is sticks out the right by $k$ cells.\n",
    "\n",
    "The Lagrange interpolation polynomial $p_{r, k}(x)$ is given by (equation (2.11) of Shu's review with notation and order altered)\n",
    "$$\n",
    "  p_{r, k}(x) = \\sum_{m=0}^r \\sum_{j=0}^{m-1} q_{i-r+k+1+j} \\frac{1}{\\Delta x^r} \\frac{\\sum_{l=0, l \\ne m}^r \\prod_{s=0, s \\ne l, m}^r \\left( x - x_{i-r+k+1+s+1/2} \\right)}{\\prod_{l=0, l \\ne m}^r \\left( m - l \\right)}.\n",
    "$$\n",
    "\n",
    "When explicitly evaluated at $x_{i+1/2}$ we get (equation (2.19) of Shu's review, again altered to match Gerolymos et al)\n",
    "$$\n",
    "  p_{r, k, i+1/2} = \\sum_{l=0}^{r-1} \\left( \\sum_{j=r-l}^r \\frac{\\sum_{m=0, m \\ne j}^r \\prod_{s=0, s \\ne j, m}^r \\left( r - k - s \\right)}{\\prod_{m=0, m \\ne j}^r \\left( j - m \\right)} \\right) q_{i+k-l} .\n",
    "$$\n",
    "\n",
    "Thus we write\n",
    "$$\n",
    "  q_{r, k, i+1/2} = \\sum_{l=0}^{r-1} a_{r, k, l} q_{i+k-l}\n",
    "$$\n",
    "where the constants $a_{r, k, l}$ are given by\n",
    "$$\n",
    "  a_{r, k, l} = \\sum_{j=r-l}^{r} \\frac{\\sum_{m=0, m \\ne j}^r \\prod_{s=0, s \\ne j, m}^r \\left( r - k - s \\right)}{\\prod_{m=0, m \\ne j}^r \\left( j - m \\right)}.\n",
    "$$"
   ]
  },
  {
   "cell_type": "code",
   "execution_count": 1,
   "metadata": {
    "collapsed": true
   },
   "outputs": [],
   "source": [
    "import sympy\n",
    "sympy.init_printing()"
   ]
  },
  {
   "cell_type": "code",
   "execution_count": 2,
   "metadata": {
    "collapsed": true
   },
   "outputs": [],
   "source": [
    "def a_coefficient(order_r, shift_k, index_l):\n",
    "    coefficient = sympy.Rational(0, 1)\n",
    "    for j in range(order_r - index_l, order_r+1):\n",
    "        numerator = 0\n",
    "        denominator = 1\n",
    "        for m in range(order_r+1):\n",
    "            if m == j:\n",
    "                pass\n",
    "            else:\n",
    "                product = 1\n",
    "                for s in range(order_r+1):\n",
    "                    if s == j or s == m:\n",
    "                        pass\n",
    "                    else:\n",
    "                        product *= order_r - shift_k - s\n",
    "                numerator += product\n",
    "                denominator *= j - m\n",
    "        coefficient += sympy.Rational(numerator, denominator)\n",
    "    return coefficient"
   ]
  },
  {
   "cell_type": "code",
   "execution_count": 3,
   "metadata": {
    "collapsed": false
   },
   "outputs": [
    {
     "name": "stdout",
     "output_type": "stream",
     "text": [
      "0 0 11/6\n",
      "0 1 -7/6\n",
      "0 2 1/3\n",
      "1 0 1/3\n",
      "1 1 5/6\n",
      "1 2 -1/6\n",
      "2 0 -1/6\n",
      "2 1 5/6\n",
      "2 2 1/3\n"
     ]
    }
   ],
   "source": [
    "order_r = 3\n",
    "for k in range(order_r):\n",
    "    for l in range(order_r):\n",
    "        print(k, l, a_coefficient(order_r, k, l))"
   ]
  },
  {
   "cell_type": "markdown",
   "metadata": {},
   "source": [
    "So an individual stencil, of order $r$, shifted by $k$, will have the form\n",
    "$$\n",
    "  q_{r, k, i+1/2} = \\sum_{l=0}^{r-1} a_{r, k, l} q_{i+k-l}\n",
    "$$\n",
    "which we can show symbolically:"
   ]
  },
  {
   "cell_type": "code",
   "execution_count": 4,
   "metadata": {
    "collapsed": false
   },
   "outputs": [],
   "source": [
    "q = sympy.symbols(r'q:{}'.format(2*order_r-1))"
   ]
  },
  {
   "cell_type": "code",
   "execution_count": 5,
   "metadata": {
    "collapsed": false
   },
   "outputs": [],
   "source": [
    "def stencil(order_r, shift_k, q, offset=0):\n",
    "    stencil_sum = sympy.Rational(0, 1)\n",
    "    for l in range(order_r):\n",
    "        stencil_sum += a_coefficient(order_r, shift_k, l) * q[order_r+shift_k-l-1-offset]\n",
    "    return stencil_sum"
   ]
  },
  {
   "cell_type": "code",
   "execution_count": 6,
   "metadata": {
    "collapsed": false
   },
   "outputs": [
    {
     "name": "stdout",
     "output_type": "stream",
     "text": [
      "0 q0/3 - 7*q1/6 + 11*q2/6\n",
      "1 -q1/6 + 5*q2/6 + q3/3\n",
      "2 q2/3 + 5*q3/6 - q4/6\n"
     ]
    }
   ],
   "source": [
    "for k in range(order_r):\n",
    "    print(k, stencil(order_r, k, q))"
   ]
  },
  {
   "cell_type": "markdown",
   "metadata": {},
   "source": [
    "We can, at the same time, compute the *single* stencil of order $2 r - 1$ that uses the same data as all of the stencils of order $r$, and compare the two:"
   ]
  },
  {
   "cell_type": "code",
   "execution_count": 7,
   "metadata": {
    "collapsed": false
   },
   "outputs": [
    {
     "name": "stdout",
     "output_type": "stream",
     "text": [
      "q0/30 - 13*q1/60 + 47*q2/60 + 9*q3/20 - q4/20\n"
     ]
    }
   ],
   "source": [
    "print(stencil(2*order_r-1, order_r-1, q, offset=order_r-1))"
   ]
  },
  {
   "cell_type": "markdown",
   "metadata": {},
   "source": [
    "Now, we can form a convex combination of each of the stencils of order $r$, so that \n",
    "$$\n",
    "  q_{r, \\text{Optimal}, i+1/2} = \\sum_{k=0}^{r-1} C_{r, k} q_{r, k, i+1/2}.\n",
    "$$\n",
    "We can match the stencils and so compute the $C_{r, k}$ coefficients:"
   ]
  },
  {
   "cell_type": "code",
   "execution_count": 8,
   "metadata": {
    "collapsed": false
   },
   "outputs": [
    {
     "name": "stdout",
     "output_type": "stream",
     "text": [
      "[Eq(1/30, C0/3), Eq(-13/60, -7*C0/6 - C1/6), Eq(47/60, 11*C0/6 + 5*C1/6 + C2/3)]\n"
     ]
    }
   ],
   "source": [
    "C = sympy.symbols(r'C:{}'.format(order_r))\n",
    "sum_stencil = 0\n",
    "for k in range(order_r):\n",
    "    sum_stencil += C[k] * stencil(order_r, k, q)\n",
    "eqns=[]\n",
    "optimal_stencil = stencil(2*order_r-1, order_r-1, q, offset=order_r-1)\n",
    "for k in range(order_r):\n",
    "    eqns.append(sympy.Eq(optimal_stencil.expand().coeff(q[k]),\n",
    "                         sum_stencil.expand().coeff(q[k])))\n",
    "print(eqns)"
   ]
  },
  {
   "cell_type": "code",
   "execution_count": 9,
   "metadata": {
    "collapsed": false
   },
   "outputs": [
    {
     "name": "stdout",
     "output_type": "stream",
     "text": [
      "0 1/10\n",
      "1 3/5\n",
      "2 3/10\n"
     ]
    }
   ],
   "source": [
    "sol=sympy.solve(eqns, C)\n",
    "for k in range(order_r):\n",
    "    print(k, sol[C[k]])"
   ]
  },
  {
   "cell_type": "markdown",
   "metadata": {},
   "source": [
    "We convert that into a function:"
   ]
  },
  {
   "cell_type": "code",
   "execution_count": 10,
   "metadata": {
    "collapsed": true
   },
   "outputs": [],
   "source": [
    "def C_coefficients(order_r):\n",
    "    coefficients = []\n",
    "    q = sympy.symbols(r'q:{}'.format(2*order_r-1))\n",
    "    C = sympy.symbols(r'C:{}'.format(order_r))\n",
    "    sum_stencil = 0\n",
    "    for k in range(order_r):\n",
    "        sum_stencil += C[k] * stencil(order_r, k, q)\n",
    "    eqns=[]\n",
    "    optimal_stencil = stencil(2*order_r-1, order_r-1, q, offset=order_r-1)\n",
    "    for k in range(order_r):\n",
    "        eqns.append(sympy.Eq(optimal_stencil.expand().coeff(q[k]),\n",
    "                             sum_stencil.expand().coeff(q[k])))\n",
    "    solution = sympy.solve(eqns, C)\n",
    "    for k in range(order_r):\n",
    "        coefficients.append(solution[C[k]])\n",
    "    return coefficients"
   ]
  },
  {
   "cell_type": "code",
   "execution_count": 11,
   "metadata": {
    "collapsed": false
   },
   "outputs": [
    {
     "name": "stdout",
     "output_type": "stream",
     "text": [
      "1/24310\n",
      "36/12155\n",
      "504/12155\n",
      "2352/12155\n",
      "882/2431\n",
      "3528/12155\n",
      "1176/12155\n",
      "144/12155\n",
      "9/24310\n"
     ]
    }
   ],
   "source": [
    "check_r = 9\n",
    "C = C_coefficients(check_r)\n",
    "for k in range(check_r):\n",
    "    print(C[k])"
   ]
  },
  {
   "cell_type": "markdown",
   "metadata": {},
   "source": [
    "Now, using the optimal coefficients is ideal when the interpolating polynomial $p(x)$ is nice and smooth. When there are discontinuities it will give large oscillations. So we want some indication of when these oscillations will occur.\n",
    "\n",
    "The Jiang-Shu smoothness indicators are given by the sum of the integrals of the square of the derivatives of the interpolating polynomial:\n",
    "$$\n",
    "  \\beta_{r, k, i+1/2} = \\sum_{m=1}^{r-1} \\Delta x^{2 m -1} \\int_{-\\Delta x / 2}^{+\\Delta x / 2} \\text{d} (\\xi - x_i) \\, \\frac{\\text{d}^m}{\\text{d} \\xi^m} p_{r, k}(\\xi-x_i).\n",
    "$$\n",
    "Using the square guarantees that it is positive. The factors of $\\Delta x$ should cancel out once the definition of $p_{r, k}$ is included, so (without loss of generality) we set $\\Delta x = 1$."
   ]
  },
  {
   "cell_type": "code",
   "execution_count": 12,
   "metadata": {
    "collapsed": true
   },
   "outputs": [],
   "source": [
    "def interpolating_p(order_r, shift_k, xi_m_x, q):\n",
    "    shift_r = order_r - shift_k - 1\n",
    "    p = sympy.Rational(0, 1)\n",
    "    for m in range(0, order_r+1):\n",
    "        for j in range(0, m):\n",
    "            numerator = 0\n",
    "            denominator = 1\n",
    "            for l in range(order_r+1):\n",
    "                if l == m:\n",
    "                    pass\n",
    "                else:\n",
    "                    product = 1\n",
    "                    for s in range(order_r+1):\n",
    "                        if s == l or s == m:\n",
    "                            pass\n",
    "                        else:\n",
    "                            product *= xi_m_x + shift_r - s + sympy.Rational(1, 2)\n",
    "                    numerator += product\n",
    "                    denominator *= m - l\n",
    "            p += q[order_r-shift_r+j-1] * numerator / denominator\n",
    "    return p"
   ]
  },
  {
   "cell_type": "code",
   "execution_count": 13,
   "metadata": {
    "collapsed": false
   },
   "outputs": [],
   "source": [
    "def beta_integral(order_r, shift_k, q):\n",
    "    xi_m_x = sympy.symbols(r'\\xi')\n",
    "    half = sympy.Rational(1, 2)\n",
    "    sum_m = 0\n",
    "    for m in range(1, order_r):\n",
    "        sum_m += sympy.integrate(sympy.diff(interpolating_p(order_r, shift_k, xi_m_x, q).simplify(), xi_m_x, m)**2, \n",
    "                                 (xi_m_x, -half, half))\n",
    "    return sum_m"
   ]
  },
  {
   "cell_type": "code",
   "execution_count": 14,
   "metadata": {
    "collapsed": false
   },
   "outputs": [
    {
     "name": "stdout",
     "output_type": "stream",
     "text": [
      "0 4*q0**2/3 - 19*q0*q1/3 + 11*q0*q2/3 + 25*q1**2/3 - 31*q1*q2/3 + 10*q2**2/3\n",
      "1 4*q1**2/3 - 13*q1*q2/3 + 5*q1*q3/3 + 13*q2**2/3 - 13*q2*q3/3 + 4*q3**2/3\n",
      "2 10*q2**2/3 - 31*q2*q3/3 + 11*q2*q4/3 + 25*q3**2/3 - 19*q3*q4/3 + 4*q4**2/3\n"
     ]
    }
   ],
   "source": [
    "for k in range(order_r):\n",
    "    print(k, beta_integral(order_r, k, q).expand())"
   ]
  },
  {
   "cell_type": "markdown",
   "metadata": {},
   "source": [
    "In order to pre-calculate the smoothness indicators in a useful form, we want to match this against the expression that Gerolymos et al use, where the smoothness indicator is given as\n",
    "$$\n",
    "  \\beta_{r, k, i+1/2} = \\sum_{l=0}^{r-1} \\sum_{m=0}^{l} \\sigma_{r, k, l, m} q_{i+k-l} q_{i+k-m}.\n",
    "$$"
   ]
  },
  {
   "cell_type": "code",
   "execution_count": 15,
   "metadata": {
    "collapsed": true
   },
   "outputs": [],
   "source": [
    "def beta_sigma(order_r, shift_k, q, sigma):\n",
    "    sum_beta = 0\n",
    "    for l in range(order_r):\n",
    "        for m in range(l+1):\n",
    "            sum_beta += sigma[l, m] * q[order_r+shift_k-l-1] * q[order_r+shift_k-m-1]\n",
    "    return sum_beta.simplify()"
   ]
  },
  {
   "cell_type": "code",
   "execution_count": 16,
   "metadata": {
    "collapsed": false
   },
   "outputs": [
    {
     "name": "stdout",
     "output_type": "stream",
     "text": [
      "0 q0**2*\\sigma[2, 2] + q0*q1*\\sigma[2, 1] + q0*q2*\\sigma[2, 0] + q1**2*\\sigma[1, 1] + q1*q2*\\sigma[1, 0] + q2**2*\\sigma[0, 0]\n",
      "1 q1**2*\\sigma[2, 2] + q1*q2*\\sigma[2, 1] + q1*q3*\\sigma[2, 0] + q2**2*\\sigma[1, 1] + q2*q3*\\sigma[1, 0] + q3**2*\\sigma[0, 0]\n",
      "2 q2**2*\\sigma[2, 2] + q2*q3*\\sigma[2, 1] + q2*q4*\\sigma[2, 0] + q3**2*\\sigma[1, 1] + q3*q4*\\sigma[1, 0] + q4**2*\\sigma[0, 0]\n"
     ]
    }
   ],
   "source": [
    "sigma = sympy.MatrixSymbol('\\sigma', order_r, order_r)\n",
    "for k in range(order_r):\n",
    "    print(k, beta_sigma(order_r, k, q, sigma))"
   ]
  },
  {
   "cell_type": "markdown",
   "metadata": {},
   "source": [
    "We can now read off the sigma coefficients:"
   ]
  },
  {
   "cell_type": "code",
   "execution_count": 17,
   "metadata": {
    "collapsed": true
   },
   "outputs": [],
   "source": [
    "def sigma_coefficients(order_r, shift_k):\n",
    "    coefficients = []\n",
    "    q = sympy.symbols(r'q:{}'.format(2*order_r-1))\n",
    "    integral_beta = beta_integral(order_r, shift_k, q).expand()\n",
    "    for l in range(order_r):\n",
    "        l_coeffs = []\n",
    "        for m in range(l+1):\n",
    "            if l == m:\n",
    "                l_coeffs.append(integral_beta.coeff(q[order_r+shift_k-l-1]**2))\n",
    "            else:\n",
    "                l_coeffs.append(integral_beta.coeff(q[order_r+shift_k-l-1]).coeff(q[order_r+shift_k-m-1]))\n",
    "        coefficients.append(l_coeffs)\n",
    "    return coefficients"
   ]
  },
  {
   "cell_type": "code",
   "execution_count": 18,
   "metadata": {
    "collapsed": false
   },
   "outputs": [
    {
     "name": "stdout",
     "output_type": "stream",
     "text": [
      "0 [[10/3], [-31/3, 25/3], [11/3, -19/3, 4/3]]\n",
      "1 [[4/3], [-13/3, 13/3], [5/3, -13/3, 4/3]]\n",
      "2 [[4/3], [-19/3, 25/3], [11/3, -31/3, 10/3]]\n"
     ]
    }
   ],
   "source": [
    "for k in range(order_r):\n",
    "    print(k, sigma_coefficients(order_r, k))"
   ]
  },
  {
   "cell_type": "markdown",
   "metadata": {},
   "source": [
    "We can now do the higher order terms, which are all tabulated in Gerolymos et al:"
   ]
  },
  {
   "cell_type": "code",
   "execution_count": 19,
   "metadata": {
    "collapsed": false
   },
   "outputs": [
    {
     "name": "stdout",
     "output_type": "stream",
     "text": [
      "a coefficients\n",
      "0 0 25/12\n",
      "0 1 -23/12\n",
      "0 2 13/12\n",
      "0 3 -1/4\n",
      "1 0 1/4\n",
      "1 1 13/12\n",
      "1 2 -5/12\n",
      "1 3 1/12\n",
      "2 0 -1/12\n",
      "2 1 7/12\n",
      "2 2 7/12\n",
      "2 3 -1/12\n",
      "3 0 1/12\n",
      "3 1 -5/12\n",
      "3 2 13/12\n",
      "3 3 1/4\n",
      "C coefficients\n",
      "0 1/35\n",
      "1 12/35\n",
      "2 18/35\n",
      "3 4/35\n",
      "sigma coefficients\n",
      "0 [[2107/240], [-1567/40, 11003/240], [3521/120, -8623/120, 7043/240], [-309/40, 2321/120, -647/40, 547/240]]\n",
      "1 [[547/240], [-1261/120, 3443/240], [961/120, -2983/120, 2843/240], [-247/120, 267/40, -821/120, 89/80]]\n",
      "2 [[89/80], [-821/120, 2843/240], [267/40, -2983/120, 3443/240], [-247/120, 961/120, -1261/120, 547/240]]\n",
      "3 [[547/240], [-647/40, 7043/240], [2321/120, -8623/120, 11003/240], [-309/40, 3521/120, -1567/40, 2107/240]]\n"
     ]
    }
   ],
   "source": [
    "order_r=4\n",
    "print(\"a coefficients\")\n",
    "for k in range(order_r):\n",
    "    for l in range(order_r):\n",
    "        print(k, l, a_coefficient(order_r, k, l))\n",
    "print(\"C coefficients\")\n",
    "C = C_coefficients(order_r)\n",
    "for k in range(order_r):\n",
    "    print(k, C[k])\n",
    "print(\"sigma coefficients\")\n",
    "for k in range(order_r):\n",
    "    print(k, sigma_coefficients(order_r, k))"
   ]
  },
  {
   "cell_type": "markdown",
   "metadata": {},
   "source": [
    "We'll now write functions to generate a string representation of the coefficients:"
   ]
  },
  {
   "cell_type": "code",
   "execution_count": 20,
   "metadata": {
    "collapsed": true
   },
   "outputs": [],
   "source": [
    "import numpy\n",
    "\n",
    "def print_a(order_r):\n",
    "    a_numerators = []\n",
    "    numers = []\n",
    "    denoms = []\n",
    "    lcms = []\n",
    "    for k in range(order_r):\n",
    "        k_numers = []\n",
    "        k_denoms = []\n",
    "        for l in range(order_r):\n",
    "            coeff = a_coefficient(order_r, k, l)\n",
    "            k_numers.append(sympy.numer(coeff))\n",
    "            k_denoms.append(sympy.denom(coeff))\n",
    "        numers.append(k_numers)\n",
    "        denoms.append(k_denoms)\n",
    "        lcms.append(sympy.lcm_list(k_denoms))\n",
    "    lcm = sympy.lcm_list(lcms)\n",
    "    for k in range(order_r):\n",
    "        common_numers = []\n",
    "        for l in range(order_r):\n",
    "            common_numers.append(numers[k][l] * sympy.Rational(lcm, denoms[k][l]))\n",
    "        a_numerators.append(common_numers)\n",
    "    max_len = len(str(numpy.max(numpy.abs(numpy.array(a_numerators)))))\n",
    "    string1 = \"{{:>{}}}, \".format(max_len+1)\n",
    "    string2 = \"{{:>{}}}]\\n\".format(max_len+1)\n",
    "    spacing_string = \"     \" + len(str(order_r))*\" \"\n",
    "    a_string = \"a_{} = numpy.array([\\n\".format(order_r)\n",
    "    for k in range(order_r):\n",
    "        a_string += spacing_string\n",
    "        a_string += \"             [\"\n",
    "        for l in range(order_r-1):\n",
    "            a_string += string1.format(int(a_numerators[k][l]))\n",
    "        a_string += string2.format(int(a_numerators[k][-1]))\n",
    "    a_string += spacing_string\n",
    "    a_string += \"            ]) / {}\".format(int(lcm))\n",
    "    return a_string\n",
    "\n",
    "\n",
    "def print_C(order_r):\n",
    "    C_coeffs = C_coefficients(order_r)\n",
    "    denoms = [sympy.denom(i) for i in C_coeffs]\n",
    "    lcm = sympy.lcm_list(denoms)\n",
    "    C_numerators = [sympy.numer(i) * sympy.Rational(lcm, sympy.denom(i)) for i in C_coeffs]\n",
    "    max_len = len(str(numpy.max(numpy.abs(numpy.array(C_numerators)))))\n",
    "    string1 = \"{{:>{}}}, \".format(max_len+1)\n",
    "    string2 = \"{{:>{}}}\".format(max_len+1)\n",
    "    C_string = \"C_{} = numpy.array([\".format(order_r)\n",
    "    for k in range(order_r-1):\n",
    "        C_string += string1.format(int(C_numerators[k]))\n",
    "    C_string += string2.format(int(C_numerators[-1]))\n",
    "    C_string += \" ]) / {}\".format(int(lcm))\n",
    "    return C_string\n",
    "\n",
    "\n",
    "def print_sigma(order_r):\n",
    "    sigma_numerators = []\n",
    "    numers = []\n",
    "    denoms = []\n",
    "    lcms = []\n",
    "    for k in range(order_r):\n",
    "        k_numers = []\n",
    "        k_denoms = []\n",
    "        coeffs = sigma_coefficients(order_r, k)\n",
    "        for l in range(order_r):\n",
    "            l_numers = []\n",
    "            l_denoms = []\n",
    "            for m in range(l+1):\n",
    "                l_numers.append(sympy.numer(coeffs[l][m]))\n",
    "                l_denoms.append(sympy.denom(coeffs[l][m]))\n",
    "            for m in range(l+1, order_r):\n",
    "                l_numers.append(0)\n",
    "                l_denoms.append(1)\n",
    "            lcms.append(sympy.lcm_list(l_denoms))\n",
    "            k_numers.append(l_numers)\n",
    "            k_denoms.append(l_denoms)\n",
    "        numers.append(k_numers)\n",
    "        denoms.append(k_denoms)\n",
    "    lcm = sympy.lcm_list(lcms)\n",
    "    for k in range(order_r):\n",
    "        k_common_numers = []\n",
    "        for l in range(order_r):\n",
    "            l_common_numers = []\n",
    "            for m in range(order_r):\n",
    "                l_common_numers.append(numers[k][l][m] * sympy.Rational(lcm, denoms[k][l][m]))\n",
    "            k_common_numers.append(l_common_numers)\n",
    "        sigma_numerators.append(k_common_numers)\n",
    "    max_len = len(str(numpy.max(numpy.abs(numpy.array(sigma_numerators)))))\n",
    "    string1 = \"{{:>{}}}, \".format(max_len+1)\n",
    "    string2 = \"{{:>{}}}],\".format(max_len+1)\n",
    "    string3 = \"{{:>{}}}]\".format(max_len+1)\n",
    "    string4 = \"{{:>{}}}] ]\\n\".format(max_len+1)\n",
    "    spacing_string = \"     \" + len(str(order_r))*\" \"\n",
    "    sigma_string = \"sigma_{} = numpy.array([\".format(order_r)\n",
    "    start_k_string = \"\\n\" + spacing_string + \"                  [\"\n",
    "    start_l_string = \"\\n\" + spacing_string + \"                    [\"\n",
    "    end_k_string   = \"\\n\" + spacing_string + \"                  ],\"\n",
    "    end_l_string   = \"\\n\" + spacing_string + \"                    ],\"\n",
    "    for k in range(order_r-1):\n",
    "        sigma_string += start_k_string\n",
    "        for l in range(order_r-1):\n",
    "            sigma_string += start_l_string\n",
    "            for m in range(order_r-1):\n",
    "                sigma_string += string1.format(int(sigma_numerators[k][l][m]))\n",
    "            sigma_string += string2.format(int(sigma_numerators[k][l][-1]))\n",
    "        sigma_string += start_l_string\n",
    "        for m in range(order_r-1):\n",
    "            sigma_string += string1.format(int(sigma_numerators[k][-1][m]))\n",
    "        sigma_string += string3.format(int(sigma_numerators[k][-1][-1]))\n",
    "        sigma_string += end_k_string\n",
    "    sigma_string += start_k_string\n",
    "    for l in range(order_r-1):\n",
    "        sigma_string += start_l_string\n",
    "        for m in range(order_r-1):\n",
    "            sigma_string += string1.format(int(sigma_numerators[-1][l][m]))\n",
    "        sigma_string += string2.format(int(sigma_numerators[-1][l][-1]))\n",
    "    sigma_string += start_l_string\n",
    "    for m in range(order_r-1):\n",
    "        sigma_string += string1.format(int(sigma_numerators[-1][-1][m]))\n",
    "    sigma_string += string3.format(int(sigma_numerators[-1][-1][-1]))\n",
    "    sigma_string += \"\\n\" + spacing_string + \"                  ]\" + \"\\n\"\n",
    "    if lcm == 1:\n",
    "        sigma_string += \"                      ])\"\n",
    "    else:\n",
    "        sigma_string += \"                      ]) / {}\".format(int(lcm))\n",
    "    return sigma_string"
   ]
  },
  {
   "cell_type": "code",
   "execution_count": 21,
   "metadata": {
    "collapsed": false
   },
   "outputs": [],
   "source": [
    "# You really don't want to do this - it's only there to\n",
    "# check that the output from the functions is executable\n",
    "# Python code\n",
    "\n",
    "#exec(print_sigma(4))\n",
    "#sigma_4"
   ]
  },
  {
   "cell_type": "markdown",
   "metadata": {},
   "source": [
    "From the string representations we can create a \"human readable\" (hmm...) Python file that could be used with the WENO reconstruction routines in eg `pyro`."
   ]
  },
  {
   "cell_type": "code",
   "execution_count": 25,
   "metadata": {
    "collapsed": true
   },
   "outputs": [],
   "source": [
    "# Output the first \"few\" sets of coefficients to a file\n",
    "# This takes around 5 minutes on my machine...\n",
    "\n",
    "order_lo = 2\n",
    "order_hi = 7\n",
    "\n",
    "with open('./weno_coefficients.py', 'tw') as f:\n",
    "    f.write(\"import numpy\\n\")\n",
    "    f.write(\"\\n\\n\")\n",
    "    for order in range(order_lo, order_hi+1):\n",
    "        f.write(\"# Coefficients of order r={}\\n\".format(order))\n",
    "        f.write(\"# On smooth solutions this should converge with order r={}\\n\".format(2*order-1))\n",
    "        f.write(print_C(order))\n",
    "        f.write(\"\\n\")\n",
    "        f.write(print_a(order))\n",
    "        f.write(\"\\n\")\n",
    "        f.write(print_sigma(order))\n",
    "        f.write(\"\\n\\n\")\n",
    "    for var in \"C\", \"a\", \"sigma\":\n",
    "        f.write(var + \"_all = {\\n\")\n",
    "        for order in range(order_lo, order_hi):\n",
    "            f.write((len(var)+9)*\" \" + \"{0} : {1}_{0},\\n\".format(order, var))\n",
    "        f.write((len(var)+9)*\" \" + \"{0} : {1}_{0}\\n\".format(order_hi, var))\n",
    "        f.write((len(var)+7)*\" \" + \"}\\n\\n\")"
   ]
  }
 ],
 "metadata": {
  "anaconda-cloud": {},
  "kernelspec": {
   "display_name": "Python [default]",
   "language": "python",
   "name": "python3"
  },
  "language_info": {
   "codemirror_mode": {
    "name": "ipython",
    "version": 3
   },
   "file_extension": ".py",
   "mimetype": "text/x-python",
   "name": "python",
   "nbconvert_exporter": "python",
   "pygments_lexer": "ipython3",
   "version": "3.4.5"
  }
 },
 "nbformat": 4,
 "nbformat_minor": 0
}
